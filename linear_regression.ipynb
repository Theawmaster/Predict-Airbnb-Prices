{
 "cells": [
  {
   "cell_type": "markdown",
   "metadata": {},
   "source": [
    "# Next 3 minutes (approx.) of your presentation -- Core Analysis\n",
    "If you used ML (regression, classification, or something else); mention mainly WHICH one(s).\n",
    "You may now briefly CLARIFY why and how the ML problem(s) aim(s) to solve your objective.\n",
    "How did you apply ML technique(s) to SOLVE your problem? Which model(s), how and why?\n",
    "Did you only use tools and techniques learned in this course? What ELSE did you learn / try?\n",
    "\n",
    "1. Linear Regression\n",
    "2. Decision Tree Regression\n",
    "3. Random Forest Regression\n",
    "4. Support Vector Regression\n",
    "5. Natural Language Processing"
   ]
  },
  {
   "cell_type": "code",
   "execution_count": null,
   "metadata": {},
   "outputs": [],
   "source": []
  }
 ],
 "metadata": {
  "language_info": {
   "name": "python"
  },
  "orig_nbformat": 4
 },
 "nbformat": 4,
 "nbformat_minor": 2
}
