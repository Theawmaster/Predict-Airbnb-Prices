{
 "cells": [
  {
   "cell_type": "markdown",
   "metadata": {},
   "source": [
    "# Next 3 minutes (approx.) of your presentation -- Core Analysis\n",
    "If you used ML (regression, classification, or something else); mention mainly WHICH one(s).\n",
    "You may now briefly CLARIFY why and how the ML problem(s) aim(s) to solve your objective.\n",
    "How did you apply ML technique(s) to SOLVE your problem? Which model(s), how and why?\n",
    "Did you only use tools and techniques learned in this course? What ELSE did you learn / try?\n",
    "\n",
    "1. Linear Regression\n",
    "2. Decision Tree Regression\n",
    "3. Random Forest Regression\n",
    "4. Support Vector Regression\n",
    "5. Natural Language Processing"
   ]
  },
  {
   "attachments": {},
   "cell_type": "markdown",
   "metadata": {},
   "source": [
    "#### Import libriaries and framework"
   ]
  },
  {
   "cell_type": "code",
   "execution_count": 1,
   "metadata": {},
   "outputs": [],
   "source": [
    "import pandas as pd\n",
    "from sklearn.model_selection import train_test_split\n",
    "from sklearn.linear_model import LinearRegression"
   ]
  },
  {
   "cell_type": "code",
   "execution_count": 16,
   "metadata": {},
   "outputs": [
    {
     "name": "stdout",
     "output_type": "stream",
     "text": [
      "['host_listings_count' 0.0187238272691813]\n",
      "['host_total_listings_count' 0.0181423372904115]\n",
      "['accommodates' 0.0453961182338572]\n",
      "['bedrooms' 0.0485425543209346]\n",
      "['beds' 0.0247691329774246]\n",
      "['price' 1.0]\n",
      "['review_scores_location' 0.0165558581524748]\n",
      "['calculated_host_listings_count' 0.0110308262455549]\n",
      "['calculated_host_listings_count_entire_homes' 0.0197568790916026]\n",
      "['amenities_count' 0.0310323079049378]\n",
      "[\"host_verifications_['email']\" 0.0170805980959065]\n",
      "['neighbourhood_cleansed_Orchard' 0.0170191880784394]\n",
      "['neighbourhood_cleansed_Outram' 0.0511058184416573]\n",
      "['neighbourhood_cleansed_Southern Islands' 0.0487069944625509]\n",
      "['neighbourhood_cleansed_Tuas' 0.0619533443368252]\n",
      "['property_type_Entire home' 0.0268339317469631]\n",
      "['property_type_Entire rental unit' 0.0127173655884484]\n",
      "['property_type_Entire serviced apartment' 0.0193872714820645]\n",
      "['property_type_Entire villa' 0.0116112317589179]\n",
      "['property_type_Room in hostel' 0.1076822748117801]\n",
      "['property_type_Room in hotel' 0.0192976378238715]\n",
      "['room_type_Hotel room' 0.0744859584513445]\n"
     ]
    }
   ],
   "source": [
    "# Load the data from the CSV file into a DataFrame\n",
    "data = pd.read_csv('datasets/high_correlations_price.csv')\n",
    "\n",
    "# Print the list of column names\n",
    "for col in data.values:\n",
    "    print(col)"
   ]
  },
  {
   "attachments": {},
   "cell_type": "markdown",
   "metadata": {},
   "source": [
    "#### Prepare the data"
   ]
  },
  {
   "cell_type": "code",
   "execution_count": 18,
   "metadata": {},
   "outputs": [
    {
     "ename": "AttributeError",
     "evalue": "'numpy.ndarray' object has no attribute 'drop'",
     "output_type": "error",
     "traceback": [
      "\u001b[1;31m---------------------------------------------------------------------------\u001b[0m",
      "\u001b[1;31mAttributeError\u001b[0m                            Traceback (most recent call last)",
      "\u001b[1;32m~\\AppData\\Local\\Temp\\ipykernel_1488\\1665363241.py\u001b[0m in \u001b[0;36m<module>\u001b[1;34m\u001b[0m\n\u001b[0;32m      3\u001b[0m \u001b[1;33m\u001b[0m\u001b[0m\n\u001b[0;32m      4\u001b[0m \u001b[1;31m# Split the data into training and testing sets\u001b[0m\u001b[1;33m\u001b[0m\u001b[1;33m\u001b[0m\u001b[0m\n\u001b[1;32m----> 5\u001b[1;33m \u001b[0mX_train\u001b[0m\u001b[1;33m,\u001b[0m \u001b[0mX_test\u001b[0m\u001b[1;33m,\u001b[0m \u001b[0my_train\u001b[0m\u001b[1;33m,\u001b[0m \u001b[0my_test\u001b[0m \u001b[1;33m=\u001b[0m \u001b[0mtrain_test_split\u001b[0m\u001b[1;33m(\u001b[0m\u001b[0mdata\u001b[0m\u001b[1;33m.\u001b[0m\u001b[0mvalues\u001b[0m\u001b[1;33m.\u001b[0m\u001b[0mdrop\u001b[0m\u001b[1;33m(\u001b[0m\u001b[1;34m'price'\u001b[0m\u001b[1;33m,\u001b[0m \u001b[0maxis\u001b[0m\u001b[1;33m=\u001b[0m\u001b[1;36m1\u001b[0m\u001b[1;33m)\u001b[0m\u001b[1;33m,\u001b[0m \u001b[0mdata\u001b[0m\u001b[1;33m.\u001b[0m\u001b[0mvalues\u001b[0m\u001b[1;33m[\u001b[0m\u001b[1;34m'price'\u001b[0m\u001b[1;33m]\u001b[0m\u001b[1;33m,\u001b[0m \u001b[0mtest_size\u001b[0m\u001b[1;33m=\u001b[0m\u001b[1;36m0.2\u001b[0m\u001b[1;33m,\u001b[0m \u001b[0mrandom_state\u001b[0m\u001b[1;33m=\u001b[0m\u001b[1;36m42\u001b[0m\u001b[1;33m)\u001b[0m\u001b[1;33m\u001b[0m\u001b[1;33m\u001b[0m\u001b[0m\n\u001b[0m\u001b[0;32m      6\u001b[0m \u001b[1;33m\u001b[0m\u001b[0m\n\u001b[0;32m      7\u001b[0m \u001b[1;31m# Fit a linear regression model to the training data\u001b[0m\u001b[1;33m\u001b[0m\u001b[1;33m\u001b[0m\u001b[0m\n",
      "\u001b[1;31mAttributeError\u001b[0m: 'numpy.ndarray' object has no attribute 'drop'"
     ]
    }
   ],
   "source": [
    "# Load the data from the CSV file into a DataFrame\n",
    "data = pd.read_csv('datasets/high_correlations_price.csv')\n",
    "\n",
    "# Split the data into training and testing sets\n",
    "X_train, X_test, y_train, y_test = train_test_split(data.values.drop('price', axis=1), data.values['price'], test_size=0.2, random_state=42)\n",
    "\n",
    "# Fit a linear regression model to the training data\n",
    "lr = LinearRegression()\n",
    "lr.fit(X_train, y_train)"
   ]
  },
  {
   "attachments": {},
   "cell_type": "markdown",
   "metadata": {},
   "source": [
    "#### Predict the data"
   ]
  },
  {
   "cell_type": "code",
   "execution_count": null,
   "metadata": {},
   "outputs": [],
   "source": [
    "# Make predictions on the testing data\n",
    "y_pred = lr.predict(X_test)\n",
    "\n",
    "# Print the R^2 score of the model\n",
    "print('R^2 score:', lr.score(X_test, y_test))"
   ]
  }
 ],
 "metadata": {
  "kernelspec": {
   "display_name": "base",
   "language": "python",
   "name": "python3"
  },
  "language_info": {
   "codemirror_mode": {
    "name": "ipython",
    "version": 3
   },
   "file_extension": ".py",
   "mimetype": "text/x-python",
   "name": "python",
   "nbconvert_exporter": "python",
   "pygments_lexer": "ipython3",
   "version": "3.9.13"
  },
  "orig_nbformat": 4
 },
 "nbformat": 4,
 "nbformat_minor": 2
}
