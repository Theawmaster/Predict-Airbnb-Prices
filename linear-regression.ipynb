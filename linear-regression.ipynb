{
 "cells": [
  {
   "cell_type": "markdown",
   "id": "9be8bb25-56f5-48ac-bae2-59c539407908",
   "metadata": {
    "tags": []
   },
   "source": [
    "# Next 3 minutes (approx.) of your presentation -- Core Analysis\n",
    "If you used ML (regression, classification, or something else); mention mainly WHICH one(s).\n",
    "You may now briefly CLARIFY why and how the ML problem(s) aim(s) to solve your objective.\n",
    "How did you apply ML technique(s) to SOLVE your problem? Which model(s), how and why?\n",
    "Did you only use tools and techniques learned in this course? What ELSE did you learn / try?\n",
    "\n",
    "1. Linear Regression\n",
    "2. Decision Tree Regression\n",
    "3. Random Forest Regression\n",
    "4. Support Vector Regression\n",
    "5. Natural Language Processing"
   ]
  },
  {
   "attachments": {},
   "cell_type": "markdown",
   "id": "f6e974ed",
   "metadata": {},
   "source": [
    "#### Import necessary libraries"
   ]
  },
  {
   "cell_type": "code",
   "execution_count": null,
   "id": "67fef0ac",
   "metadata": {
    "vscode": {
     "languageId": "plaintext"
    }
   },
   "outputs": [],
   "source": [
    "import pandas as pd\n",
    "import numpy as np"
   ]
  },
  {
   "attachments": {},
   "cell_type": "markdown",
   "id": "e4d465c9",
   "metadata": {},
   "source": [
    "#### Load the CSV file"
   ]
  },
  {
   "cell_type": "code",
   "execution_count": null,
   "id": "820a6f74",
   "metadata": {
    "vscode": {
     "languageId": "plaintext"
    }
   },
   "outputs": [],
   "source": [
    "file_path = 'datasets/listings_preprocessed.csv'\n",
    "data = pd.read_csv(file_path)"
   ]
  },
  {
   "attachments": {},
   "cell_type": "markdown",
   "id": "9d0aff3f",
   "metadata": {},
   "source": [
    "#### Clean and preprocess the data"
   ]
  },
  {
   "cell_type": "code",
   "execution_count": null,
   "id": "e99f618e",
   "metadata": {
    "vscode": {
     "languageId": "plaintext"
    }
   },
   "outputs": [],
   "source": [
    "# Drop rows with missing values\n",
    "data = data.dropna()\n",
    "\n",
    "# Convert columns to appropriate data types\n",
    "data['column_name'] = data['column_name'].astype('data_type')\n",
    "\n",
    "# Rename columns if necessary\n",
    "data = data.rename(columns={'old_column_name': 'new_column_name'})\n",
    "\n",
    "# Remove any duplicates\n",
    "data = data.drop_duplicates()"
   ]
  },
  {
   "attachments": {},
   "cell_type": "markdown",
   "id": "f7ec97a0",
   "metadata": {},
   "source": [
    "#### Explore the data"
   ]
  },
  {
   "cell_type": "code",
   "execution_count": null,
   "id": "35932c20",
   "metadata": {
    "vscode": {
     "languageId": "plaintext"
    }
   },
   "outputs": [],
   "source": [
    "# Descriptive statistics\n",
    "print(data.describe())\n",
    "\n",
    "# Correlations\n",
    "print(data.corr())"
   ]
  },
  {
   "attachments": {},
   "cell_type": "markdown",
   "id": "9c2fb07e",
   "metadata": {},
   "source": [
    "### Statistical Analysis"
   ]
  },
  {
   "cell_type": "code",
   "execution_count": null,
   "id": "d5aeeeba",
   "metadata": {
    "vscode": {
     "languageId": "plaintext"
    }
   },
   "outputs": [],
   "source": []
  }
 ],
 "metadata": {
  "kernelspec": {
   "display_name": "Python 3 (ipykernel)",
   "language": "python",
   "name": "python3"
  },
  "language_info": {
   "codemirror_mode": {
    "name": "ipython",
    "version": 3
   },
   "file_extension": ".py",
   "mimetype": "text/x-python",
   "name": "python",
   "nbconvert_exporter": "python",
   "pygments_lexer": "ipython3",
   "version": "3.11.2"
  }
 },
 "nbformat": 4,
 "nbformat_minor": 5
}
