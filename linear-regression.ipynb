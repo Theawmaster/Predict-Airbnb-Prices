{
 "cells": [
  {
   "cell_type": "markdown",
   "id": "9be8bb25-56f5-48ac-bae2-59c539407908",
   "metadata": {
    "tags": []
   },
   "source": [
    "# Next 3 minutes (approx.) of your presentation -- Core Analysis\n",
    "If you used ML (regression, classification, or something else); mention mainly WHICH one(s).\n",
    "You may now briefly CLARIFY why and how the ML problem(s) aim(s) to solve your objective.\n",
    "How did you apply ML technique(s) to SOLVE your problem? Which model(s), how and why?\n",
    "Did you only use tools and techniques learned in this course? What ELSE did you learn / try?\n",
    "\n",
    "1. Linear Regression\n",
    "2. Decision Tree Regression\n",
    "3. Random Forest Regression\n",
    "4. Support Vector Regression\n",
    "5. Natural Language Processing"
   ]
  },
  {
   "cell_type": "code",
   "execution_count": null,
   "id": "4d1791d7-2b56-4cc2-810d-0663c3c114fd",
   "metadata": {},
   "outputs": [],
   "source": []
  },
  {
   "cell_type": "code",
   "execution_count": null,
   "id": "7081af1b-a4ff-4f9f-98e6-a30b53ec332b",
   "metadata": {},
   "outputs": [],
   "source": []
  }
 ],
 "metadata": {
  "kernelspec": {
   "display_name": "Python 3 (ipykernel)",
   "language": "python",
   "name": "python3"
  },
  "language_info": {
   "codemirror_mode": {
    "name": "ipython",
    "version": 3
   },
   "file_extension": ".py",
   "mimetype": "text/x-python",
   "name": "python",
   "nbconvert_exporter": "python",
   "pygments_lexer": "ipython3",
   "version": "3.11.2"
  }
 },
 "nbformat": 4,
 "nbformat_minor": 5
}
